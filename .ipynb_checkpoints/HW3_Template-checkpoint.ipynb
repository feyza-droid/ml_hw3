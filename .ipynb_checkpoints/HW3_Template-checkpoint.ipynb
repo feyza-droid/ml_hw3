{
 "cells": [
  {
   "cell_type": "code",
   "execution_count": 1,
   "metadata": {},
   "outputs": [],
   "source": [
    "import numpy as np\n",
    "import warnings\n",
    "from sklearn import decomposition\n",
    "import matplotlib.pyplot as plt\n",
    "\n",
    "#suppress warnings\n",
    "warnings.filterwarnings('ignore')"
   ]
  },
  {
   "cell_type": "markdown",
   "metadata": {},
   "source": [
    "# BLG527E - Machine Learning, Homework 3\n",
    "\n",
    "In this homework, you are supposed to implement following parts:\n",
    "     \n",
    "- **Part 1: solve an SVM optimization problem by hand (50 points)**\n",
    "\n",
    "- **Part 2: Federate a logistic regression classifier (40 points)**\n",
    "\n",
    "- **Part 3: practice feature selection (10 points)**\n",
    "     - Refer to Machine Learning Blinks 10 and 11 for this part:\n",
    "     - ML Blinks 10: https://www.youtube.com/watch?v=laeth5oT9YM&list=PLug43ldmRSo1LDlvQOPzgoJ6wKnfmzimQ\n",
    "     - ML Blinks 11: https://www.youtube.com/watch?v=mRmVKNklE9I&list=PLug43ldmRSo1LDlvQOPzgoJ6wKnfmzimQ \n",
    " \n",
    " \n",
    " \n",
    " ### Important Notes:\n",
    "   - Please complete this template and include any other necessary materials (screenshots of your handwritten solutions etc.) into the HW3 folder. Then zip it again and submit to Ninova.\n",
    "   - At Part 1, you can upload the screenshots of your handwritten solutions to the Notebook. But please be sure that your solutions are neat and can be read properly.\n",
    "   - For the Part 2, you will Federate a classifier across 20 datasets. Check the paper in Part 2.2 for more details. \n",
    "   - For the Part 3, you should implement feature selection from scratch however can use scikit-learn built-in functions for training the SVM.\n",
    "   - You can ask your questions via kamard@itu.edu.tr \n",
    "    \n",
    "\n"
   ]
  },
  {
   "cell_type": "markdown",
   "metadata": {},
   "source": [
    "## Part 1: Solving SVM optimization by hand (50 points)\n",
    "\n",
    "You can insert the screenshots of your handwritten solution on Jupyter Notebook. For an example, check the cells including images. Do not forget to include your solution image file into the submitted .zip file.\n",
    "\n",
    "Some reminders for the question:\n",
    "\n",
    " - Lagrangian to optimize: $\\mathcal{L}_{primal} = \\sum_{i=1}^{n} a_{i} - \\frac{1}{2} [\\sum_{i=1}^{n}\\sum_{j=1}^{n}\\alpha_{i}\\alpha_{j}y_{i}y_{j}x_{i}^{T}x^{j}] $ \n",
    "\n",
    "\n",
    "- Constraint: $\\sum_{i=1}^{n} \\alpha_{i} y_{i} = 0$\n",
    "\n",
    "\n",
    "- Optimal parameter: $w^{*} = \\sum_{i=1}^{n} \\alpha_{i} y_{i} x^{i}$"
   ]
  },
  {
   "cell_type": "markdown",
   "metadata": {},
   "source": [
    "### Part 1.1 (25 points)\n",
    "\n",
    "<p style=\"float: left;\"><img src=\"images/Part1-1.png\" width = \"200\"></p>\n",
    "        \n",
    "        Given the two following training samples (n=2), provide below a step-by-step solution\n",
    "        to estimate the optimal parameters (w and b) of the hyperplane separating the two classes."
   ]
  },
  {
   "cell_type": "markdown",
   "metadata": {},
   "source": [
    "### Part 1.1 Solution\n",
    "\n",
    "<p style=\"float: left;\"><img src=\"images/Part1.1.1.jpeg\" width = \"200\"></p>\n",
    "<p style=\"float: left;\"><img src=\"images/Part1.1.2.jpeg\" width = \"200\"></p>\n",
    "<p style=\"float: left;\"><img src=\"images/Part1.1.3.jpeg\" width = \"200\"></p>\n",
    "<p style=\"float: left;\"><img src=\"images/Part1.1.4.jpeg\" width = \"200\"></p>"
   ]
  },
  {
   "cell_type": "markdown",
   "metadata": {},
   "source": [
    "### Part 1.2 (15 points) \n",
    "If we add a third training point $x_3 = \\left [\\begin{matrix} -4 \\\\ 4 \\end{matrix}\\right] $, will that impact the hyperplane estimated using points $x_1$ and $x_2$? Answer this considering two cases where label for $x_3$ is (1) $y_3 = +1 $, (2) $y_3 = -1 $ and justify. You do not need to solve Lagrangian again, justify your answer drawing the hyperplanes and giving explanations."
   ]
  },
  {
   "cell_type": "markdown",
   "metadata": {},
   "source": [
    "### Part 1.2 Solution\n",
    "\n",
    "<p style=\"float: left;\"><img src=\"images/Part1.2.1.jpeg\" width = \"200\"></p>\n",
    "<p style=\"float: left;\"><img src=\"images/Part1.2.2.jpeg\" width = \"200\"></p>"
   ]
  },
  {
   "cell_type": "markdown",
   "metadata": {},
   "source": [
    "### Part 1.3 (10 points)\n",
    "Explain how to classify the point $x_{test} = \\left [\\begin{matrix} -4 \\\\ -3 \\end{matrix}\\right] $ using the estimated model at Part 1.1. What is the predicted label of $x_{test}$? "
   ]
  },
  {
   "cell_type": "markdown",
   "metadata": {},
   "source": [
    "### Part 1.3 Solution\n",
    "\n",
    "<p style=\"float: left;\"><img src=\"images/Part1.3.1.jpeg\" width = \"200\"></p>"
   ]
  },
  {
   "cell_type": "markdown",
   "metadata": {},
   "source": [
    "## Part 2: Federate a logistic regression classifier across 20 datasets (40 points)\n",
    "\n",
    "We set out to classify two digits from the MNIST dataset: digit 0 to which we assign the label 0 and digit 1 to which we assign the label 1 using the code of the logistic regression based on the softmax loss. You are allowed to use built-in functions from scikit-learn in the specified parts below, which you can install via one of the following commands (depending on which one you use):\n",
    "\n",
    "        > python3 -m pip install scikit-learn\n",
    "        > conda install -c conda-forge scikit-learn\n",
    "\n",
    "We have 20 local datasets distributed across 20 clients and 1 global test dataset left for testing. The function **parse_mnist_into_clients** in the following cell creates the datasets from the shared files. You do NOT need to change the function. You can simply run the following cell and it will load the datasets for you!"
   ]
  },
  {
   "cell_type": "code",
   "execution_count": 2,
   "metadata": {},
   "outputs": [],
   "source": [
    "def parse_mnist_into_clients():\n",
    "    '''\n",
    "    Parses the MNIST data files into 20 local datasets for clients and 1 global test dataset. \n",
    "    Do NOT change this function!\n",
    "    \n",
    "    \n",
    "    Outputs:\n",
    "    \n",
    "    local_datasets_data: The MNIST data of the local 20 dataset\n",
    "    local_datasets_label: Labels of the 20 local dataset. local_datasets_data[i] corresponds to local_datasets_label[i]\n",
    "    test_data : Global Test Data\n",
    "    test_label: Labels of the global test data\n",
    "    '''\n",
    "    data = np.load('mnist_data.npy')\n",
    "    labels = np.load('mnist_labels.npy')\n",
    "    local_datasets_data  = []\n",
    "    local_datasets_label = []\n",
    "    \n",
    "    for i in range(20):\n",
    "        local_datasets_data.append(np.copy(data[i*703:(i+1)*703]))\n",
    "        local_datasets_label.append(np.copy(labels[i*703:(i+1)*703]))\n",
    "    \n",
    "    test_data = np.copy(data[14060:])  \n",
    "    test_labels = np.copy(labels[14060:])\n",
    "    \n",
    "    return local_datasets_data, local_datasets_label, test_data, test_labels\n",
    "\n",
    "# Load the data\n",
    "client_data, client_label, test_data, test_label = parse_mnist_into_clients()"
   ]
  },
  {
   "cell_type": "markdown",
   "metadata": {},
   "source": [
    "A simple example code of the logistic classifier using softmax loss is included below. Use this code to federate the learning of the 20 clients and test their local models on the left-out test dataset. Note that the code below is a very simple logistic regression code and the hyper parameters is not optimized. Feel free to modify it depending on what you need."
   ]
  },
  {
   "cell_type": "code",
   "execution_count": 3,
   "metadata": {},
   "outputs": [],
   "source": [
    "def sigmoid(x):\n",
    "    return 1/ (1 + np.exp(-x))\n",
    "\n",
    "def calculate_grad(X, y, w): # gradient of the loss function least square cost by using sigmoid(xw + b)\n",
    "    s = sigmoid(-y * (X @ w))\n",
    "    grad = -X.T @ (s * y)\n",
    "    grad = np.mean(grad, axis=1, keepdims=True) # mean error across samples\n",
    "    return grad\n",
    "\n",
    "def client_update(k, w, E): # this is designed for B equals infinity (select all training data of that client)\n",
    "    alpha = 10**-1 # learning rate\n",
    "    X = client_data_reduced[k] # kth client can only see the kth data \n",
    "    y = client_label[k] # kth client can only see the kth labels\n",
    "    \n",
    "    for epoch in range(E):\n",
    "        grad = calculate_grad(X,y,w) # gradient of the loss function wrt to w\n",
    "        w = w - alpha * grad # update rule of gradient descent\n",
    "        \n",
    "    return w"
   ]
  },
  {
   "cell_type": "markdown",
   "metadata": {},
   "source": [
    "### Part 2.1 (10 points)\n",
    "\n",
    "Use built-in PCA from scikit-learn library to reduce the dimensionality of the training and testing samples to only two dimension (PC1 and PC2). PS: Watch <a href='https://www.youtube.com/watch?v=mRmVKNklE9I&list=PLug43ldmRSo1LDlvQOPzgoJ6wKnfmzimQ&index=45'>lecture 11</a> (beware of the eavesdropping phenomenon!). Note also that PCA should be applied to each client independently. In federated learning, clients never share data.\n"
   ]
  },
  {
   "cell_type": "code",
   "execution_count": 4,
   "metadata": {},
   "outputs": [],
   "source": [
    "def apply_pca(data):\n",
    "    pca = decomposition.PCA(n_components=2)\n",
    "    pca.fit(data)\n",
    "    reduced_data = pca.transform(data)\n",
    "    return reduced_data\n",
    "\n",
    "# for training\n",
    "# client_data_reduced data structure is used to hold all clients but in client update each client is only allowed to reach kth elements\n",
    "client_data_reduced = []\n",
    "for X in client_data: # do this for each different client\n",
    "    X_reduced = apply_pca(X)\n",
    "    client_data_reduced.append(X_reduced)\n",
    "    \n",
    "# for testing\n",
    "test_data_reduced = apply_pca(test_data)"
   ]
  },
  {
   "cell_type": "markdown",
   "metadata": {},
   "source": [
    "### Part 2.2 (20 points)\n",
    "\n",
    "From now on we will use the reduced 2-dimensional training and test datasets. Train a logistic classifier on the reduced 2-dimensional dataset for each client, independently, send the model weights to the server, aggregate and broadcast back to all clients.\n",
    "\n",
    "Basically, implement the **FederatedAveraging** algorithm in **(https://arxiv.org/pdf/1602.05629.pdf)** for B = infinity (i.e., each client will be trained on all its local training samples). \n"
   ]
  },
  {
   "cell_type": "code",
   "execution_count": 5,
   "metadata": {},
   "outputs": [],
   "source": [
    "def server(K, E, number_of_pca_dim, max_round, test_every_round):    \n",
    "    client_weights = np.zeros((K, number_of_pca_dim, 1)) # (20, 2, 1)\n",
    "    w_0 = np.random.randn(number_of_pca_dim,1)\n",
    "    \n",
    "    w_t = w_0\n",
    "    acc_list = []\n",
    "    for t in range(max_round): # at each round weights of the server is updated\n",
    "        for k in range(K): # for each client\n",
    "            client_weights[k] = client_update(k, w_t, E)\n",
    "            \n",
    "        w_t = np.mean(client_weights, axis=0) # update server weights by getting mean weights of all clients, since each client has same number of samples, I didn't use weighted weights (s.t. n_k/n)\n",
    "        \n",
    "        if t % test_every_round == 0:\n",
    "            acc = test_logistic_classifier(w_t, test_data_reduced, test_label) # test with the lastly updated weights\n",
    "            acc_list.append(acc)\n",
    "            \n",
    "    return acc_list\n",
    "    \n",
    "def federated_averaging(K, E, number_of_pca_dim, max_round, test_every_round):\n",
    "    acc_list = server(K, E, number_of_pca_dim, max_round, test_every_round)\n",
    "    return acc_list"
   ]
  },
  {
   "cell_type": "markdown",
   "metadata": {},
   "source": [
    "### Part 2.3 (10 points)\n",
    "\n",
    "Test the global (aggregated model) on the left-out test dataset. Plot the test classification accuracy on the global dataset against the number of communication rounds for E = 1, 5 and 10. You might need to use a small number of communication rounds if the convergence is fast. Note that B is always set to infinity. Check out Figure 2 in the paper for more details. What do you notice? Discuss your results."
   ]
  },
  {
   "cell_type": "code",
   "execution_count": 6,
   "metadata": {},
   "outputs": [],
   "source": [
    "def test_logistic_classifier(w, test_data_reduced, test_label):\n",
    "    preds = sigmoid(np.dot(test_data_reduced, w))\n",
    "\n",
    "    correct = 0\n",
    "    n_test_samples = len(test_label)\n",
    "    for i in range(n_test_samples):\n",
    "        if test_label[i] == preds[i]:\n",
    "            correct += 1\n",
    "                \n",
    "    acc = correct/n_test_samples\n",
    "    return acc"
   ]
  },
  {
   "cell_type": "code",
   "execution_count": 7,
   "metadata": {},
   "outputs": [
    {
     "name": "stdout",
     "output_type": "stream",
     "text": [
      "Testing at [  50.  100.  150.  200.  250.  300.  350.  400.  450.  500.  550.  600.\n",
      "  650.  700.  750.  800.  850.  900.  950. 1000.] communication rounds.\n",
      "\n",
      "Testing acc E=1 [0.9972222222222222, 0.9972222222222222, 0.9972222222222222, 0.9972222222222222, 0.9972222222222222, 0.9972222222222222, 0.9972222222222222, 0.9972222222222222, 0.9972222222222222, 0.9972222222222222, 0.9972222222222222, 0.9972222222222222, 0.9972222222222222, 0.9972222222222222, 0.9972222222222222, 0.9972222222222222, 0.9972222222222222, 0.9972222222222222, 0.9972222222222222, 0.9972222222222222]\n",
      "\n",
      "\n",
      "Testing acc E=5 [0.9972222222222222, 0.9972222222222222, 0.9972222222222222, 0.9972222222222222, 0.9972222222222222, 0.9972222222222222, 0.9972222222222222, 0.9972222222222222, 0.9972222222222222, 0.9972222222222222, 0.9972222222222222, 0.9972222222222222, 0.9972222222222222, 0.9972222222222222, 0.9972222222222222, 0.9972222222222222, 0.9972222222222222, 0.9972222222222222, 0.9972222222222222, 0.9972222222222222]\n",
      "\n",
      "\n",
      "Testing acc E=10 [0.9972222222222222, 0.9972222222222222, 0.9972222222222222, 0.9972222222222222, 0.9972222222222222, 0.9972222222222222, 0.9972222222222222, 0.9972222222222222, 0.9972222222222222, 0.9972222222222222, 0.9972222222222222, 0.9972222222222222, 0.9972222222222222, 0.9972222222222222, 0.9972222222222222, 0.9972222222222222, 0.9972222222222222, 0.9972222222222222, 0.9972222222222222, 0.9972222222222222]\n",
      "\n"
     ]
    },
    {
     "data": {
      "image/png": "[encoded data removed]",
      "text/plain": [
       "<Figure size 640x480 with 1 Axes>"
      ]
     },
     "metadata": {},
     "output_type": "display_data"
    }
   ],
   "source": [
    "np.random.seed(2) # to make sure initial weights are same for each run, for reproducibility guarantee \n",
    "\n",
    "K = 20 # number of clients\n",
    "number_of_pca_dim = 2 # number of new projected features of the data\n",
    "\n",
    "max_round = 1000 # Communication Rounds a.k.a number of update of weights in the server\n",
    "test_every_round = 50 # when to test of the weights of the server\n",
    "x_axis = np.linspace(test_every_round, max_round, int(max_round/test_every_round))\n",
    "print(f\"Testing at {x_axis} communication rounds.\")\n",
    "\n",
    "E_list = [1, 5, 10] # number of local epochs\n",
    "color_list = [\"-r\", \"-g\", \"-b\"]\n",
    "for E, c in zip(E_list, color_list):\n",
    "    acc_list = federated_averaging(K, E, number_of_pca_dim, max_round, test_every_round)\n",
    "    plt.plot(x_axis, acc_list, c, label=f\"B=inf E={E}\")\n",
    "    print(f\"\\nTesting acc E={E} {acc_list}\\n\")\n",
    "\n",
    "plt.xlabel('Communication Rounds')\n",
    "plt.ylabel('Test Accuracy') \n",
    "plt.title('Federated Averaging')\n",
    "plt.legend()\n",
    "plt.show()"
   ]
  },
  {
   "cell_type": "markdown",
   "metadata": {},
   "source": [
    "In this figure, we are only changing E which the local epoch number used by each client. From this figure, I am observing that the test accuracy is not changing while the communication rounds are increasing (e.g. how many times we aggregate the weights of all of clients) for E=1,E=5 and E=10. It already starts with a very high test accuracy (0.9972) and don't change. In my experiments I have realized that performance of the model strongly depends on the initial weights of the server. Therefore this accuracy depends on the numpy seed."
   ]
  },
  {
   "cell_type": "markdown",
   "metadata": {},
   "source": [
    "## Part 3: Feature selection using Variance Threshold (10 points)\n",
    "\n",
    "In this part, we will use scikit-learn library for training SVM. To remind you, you can install the scikit-learn using following commands:\n",
    "\n",
    "        > python3 -m pip install scikit-learn\n",
    "        > conda install -c conda-forge scikit-learn\n",
    "        \n",
    "There are lots of machine learning techniques that are available in scikit-learn library. In this problem we will use the **SVM** classifier with linear kernel and implement Variance Threshold feature selection method from scratch.\n",
    "   \n",
    "\n",
    "You can check the documentations on the internet to learn how to use SVM classifier and which parameters to use. Necessary functions are imported below."
   ]
  },
  {
   "cell_type": "code",
   "execution_count": 8,
   "metadata": {},
   "outputs": [],
   "source": [
    "# This file is associated with the book\n",
    "# \"Machine Learning Refined\", Cambridge University Press, 2016.\n",
    "# by Jeremy Watt, Reza Borhani, and Aggelos Katsaggelos.\n",
    "\n",
    "import numpy as np\n",
    "import matplotlib.pyplot as plt\n",
    "import pandas as pd\n",
    "\n",
    "from sklearn.svm import SVC\n",
    "import sklearn.datasets as ds\n",
    "\n",
    "from sklearn.model_selection import train_test_split"
   ]
  },
  {
   "cell_type": "markdown",
   "metadata": {},
   "source": [
    "We will implement feature selection on handwritten digits dataset. In the following cell we load and examine dataset. As you can see the samples are 8 by 8 images where in each row of X, the images are kept as flatten vectors. Each feature represents a pixel (i.e 0th feature is (0, 0) pixel and 8th feature is (1, 0) pixel."
   ]
  },
  {
   "cell_type": "code",
   "execution_count": 9,
   "metadata": {},
   "outputs": [
    {
     "name": "stdout",
     "output_type": "stream",
     "text": [
      "Number of samples:  1797\n",
      "Number of attributes:  64\n",
      "Classes:  [0 1 2 3 4 5 6 7 8 9]\n"
     ]
    },
    {
     "data": {
      "text/plain": [
       "<Figure size 640x480 with 0 Axes>"
      ]
     },
     "metadata": {},
     "output_type": "display_data"
    },
    {
     "data": {
      "image/png": "[encoded data removed]",
      "text/plain": [
       "<Figure size 1600x200 with 1 Axes>"
      ]
     },
     "metadata": {},
     "output_type": "display_data"
    }
   ],
   "source": [
    "digit_data = ds.load_digits()\n",
    "print(\"Number of samples: \", digit_data.data.shape[0])\n",
    "print(\"Number of attributes: \", digit_data.data.shape[1])\n",
    "print(\"Classes: \", digit_data.target_names)\n",
    "\n",
    "c = digit_data.images[0]\n",
    "for i in range(1, 10):\n",
    "    c = np.concatenate((c, digit_data.images[i]), 1)\n",
    "\n",
    "plt.gray() \n",
    "plt.matshow(c)\n",
    "plt.show()"
   ]
  },
  {
   "cell_type": "markdown",
   "metadata": {},
   "source": [
    "Then we split the data into training and testing sets in order to train the models on training set and test them on unseen test set. Do not change the random state so we will get the same train and test splits."
   ]
  },
  {
   "cell_type": "code",
   "execution_count": 10,
   "metadata": {},
   "outputs": [
    {
     "name": "stdout",
     "output_type": "stream",
     "text": [
      "Number of training samples:  1437\n",
      "Number of testing samples:  360\n"
     ]
    }
   ],
   "source": [
    "X, y = digit_data.data, digit_data.target\n",
    "X_train, X_test, y_train, y_test = train_test_split(X, y, test_size=0.2, shuffle = True, random_state=20)\n",
    "\n",
    "print(\"Number of training samples: \", X_train.shape[0])\n",
    "print(\"Number of testing samples: \", X_test.shape[0])"
   ]
  },
  {
   "cell_type": "markdown",
   "metadata": {},
   "source": [
    " In the following cell, you should complete the necessary train and test functions for SVM. Fill the specified parts only. Calculate the accuracy score as:\n",
    "\n",
    "<br>\n",
    "<center> $ Accuracy = \\frac{\\#correct \\ predictions}{\\#total \\ samples} $ </center>\n",
    "<br>"
   ]
  },
  {
   "cell_type": "code",
   "execution_count": 11,
   "metadata": {},
   "outputs": [],
   "source": [
    "def train(X, y):\n",
    "    classifier = SVC(kernel=\"linear\")  # define the classifier\n",
    "    classifier.fit(X, y)  # fit the classifier on training set\n",
    "    \n",
    "    preds = classifier.predict(X)  # predict the labels for training set\n",
    "  \n",
    "    correct = 0\n",
    "    n = len(y)\n",
    "    for i in range(n):\n",
    "        if preds[i] == y[i]:\n",
    "            correct += 1\n",
    "    train_accuracy = correct/n  # calculate the accuracy (do not use built-in function)\n",
    "    \n",
    "    return classifier, train_accuracy\n",
    "\n",
    "def test(classifier, X, y):\n",
    "    preds = classifier.predict(X)  # predict the labels for test set\n",
    "    \n",
    "    correct = 0\n",
    "    n = len(y)\n",
    "    for i in range(n):\n",
    "        if preds[i] == y[i]:\n",
    "            correct += 1    \n",
    "    test_accuracy = correct/n  # calculate the accuracy on test set\n",
    "    \n",
    "    return test_accuracy"
   ]
  },
  {
   "cell_type": "markdown",
   "metadata": {},
   "source": [
    " Next, use these function to train and test an SVM without feature selection."
   ]
  },
  {
   "cell_type": "code",
   "execution_count": 12,
   "metadata": {},
   "outputs": [
    {
     "name": "stdout",
     "output_type": "stream",
     "text": [
      "Train acc without feature selection:  1.0\n",
      "Test acc without feature selection:  0.975\n"
     ]
    }
   ],
   "source": [
    "# SVM classifier without feature selection\n",
    "svm, train_acc = train(X_train, y_train) # call train function with necessary parameters\n",
    "test_acc = test(svm, X_test, y_test)  # call test function with necessary parameters\n",
    "\n",
    "print(\"Train acc without feature selection: \", train_acc)\n",
    "print(\"Test acc without feature selection: \", test_acc)"
   ]
  },
  {
   "cell_type": "markdown",
   "metadata": {},
   "source": [
    " Now, implement Variance Threshold feature selection method on the dataset. The Variance Threshold basicly follows these steps:\n",
    "  - Calculate the variances of each feature in the dataset. (Hint: You can use numpy for this)\n",
    "  - Eliminate the features that has variance less then the given threshold."
   ]
  },
  {
   "cell_type": "code",
   "execution_count": 13,
   "metadata": {},
   "outputs": [],
   "source": [
    "def variance_threshold(X, threshold=0):\n",
    "    selected = [] # keep the indexes of selected feature\n",
    "    eliminated = [] # keep the indexes of eliminated features\n",
    "    \n",
    "    #calculate variances of each feature and eliminate features with variance lower than threshold\n",
    "    n_features = X.shape[1] # number of features before applying variance threshold\n",
    "    for f in range(n_features):\n",
    "        var_f = np.var(X[:,f])\n",
    "        if var_f < threshold: # eliminate feature\n",
    "            eliminated.append(f)\n",
    "        else: # select feature\n",
    "            selected.append(f)\n",
    "    \n",
    "    print(\"Indexes of the eliminated features: \", eliminated) # print the indexes of eliminated features.\n",
    "\n",
    "    X_reduced = X[:,selected]\n",
    "    \n",
    "    print(\"Number of features for threshold = \", threshold, \"is :\", X_reduced.shape[1])\n",
    "    return X_reduced, selected"
   ]
  },
  {
   "cell_type": "code",
   "execution_count": 14,
   "metadata": {},
   "outputs": [],
   "source": [
    "def apply_threshold_to_test(X, selected_feature_indexes):\n",
    "    X_reduced = X[:,selected_feature_indexes]\n",
    "    \n",
    "    return X_reduced"
   ]
  },
  {
   "cell_type": "markdown",
   "metadata": {},
   "source": [
    " Now, call the variance threshold function for **5** distinct threshold values and obtain **different set of features**. Then, train and test an SVM classifier on each set. Do not forget to apply the feature selection on the test set as well."
   ]
  },
  {
   "cell_type": "code",
   "execution_count": 15,
   "metadata": {},
   "outputs": [
    {
     "name": "stdout",
     "output_type": "stream",
     "text": [
      "Threshold =  0.33\n",
      "Indexes of the eliminated features:  [0, 8, 16, 23, 24, 31, 32, 39, 40, 47, 48, 56]\n",
      "Number of features for threshold =  0.33 is : 52\n",
      "Train acc with feature selection:  1.0\n",
      "Test acc with feature selection:  0.975\n",
      "\n",
      "\n",
      "Threshold =  5\n",
      "Indexes of the eliminated features:  [0, 1, 7, 8, 15, 16, 23, 24, 31, 32, 39, 40, 47, 48, 49, 55, 56, 57, 63]\n",
      "Number of features for threshold =  5 is : 45\n",
      "Train acc with feature selection:  1.0\n",
      "Test acc with feature selection:  0.975\n",
      "\n",
      "\n",
      "Threshold =  10\n",
      "Indexes of the eliminated features:  [0, 1, 7, 8, 15, 16, 23, 24, 25, 31, 32, 39, 40, 41, 47, 48, 49, 55, 56, 57, 63]\n",
      "Number of features for threshold =  10 is : 43\n",
      "Train acc with feature selection:  1.0\n",
      "Test acc with feature selection:  0.975\n",
      "\n",
      "\n",
      "Threshold =  20\n",
      "Indexes of the eliminated features:  [0, 1, 3, 4, 6, 7, 8, 9, 11, 14, 15, 16, 17, 22, 23, 24, 25, 30, 31, 32, 33, 38, 39, 40, 41, 46, 47, 48, 49, 55, 56, 57, 59, 62, 63]\n",
      "Number of features for threshold =  20 is : 29\n",
      "Train acc with feature selection:  1.0\n",
      "Test acc with feature selection:  0.9777777777777777\n",
      "\n",
      "\n",
      "Threshold =  30\n",
      "Indexes of the eliminated features:  [0, 1, 2, 3, 4, 6, 7, 8, 9, 10, 11, 12, 14, 15, 16, 17, 22, 23, 24, 25, 30, 31, 32, 33, 38, 39, 40, 41, 46, 47, 48, 49, 51, 52, 54, 55, 56, 57, 58, 59, 60, 62, 63]\n",
      "Number of features for threshold =  30 is : 21\n",
      "Train acc with feature selection:  1.0\n",
      "Test acc with feature selection:  0.9722222222222222\n",
      "\n",
      "\n"
     ]
    }
   ],
   "source": [
    "thresholds = [0.33, 5, 10, 20, 30]\n",
    "\n",
    "for th in thresholds:\n",
    "    print(\"Threshold = \", th)\n",
    "    X_reduced, selected = variance_threshold(X_train, th)\n",
    "    X_reduced_test = apply_threshold_to_test(X_test, selected)\n",
    "\n",
    "    svm, train_acc = train(X_reduced, y_train) # call train function with necessary parameters\n",
    "    test_acc = test(svm, X_reduced_test, y_test)  # call test function with necessary parameters\n",
    "\n",
    "    print(\"Train acc with feature selection: \", train_acc)\n",
    "    print(\"Test acc with feature selection: \", test_acc)\n",
    "    print(\"\\n\")"
   ]
  },
  {
   "cell_type": "markdown",
   "metadata": {},
   "source": [
    "**Bonus Question (5 points)**\n",
    "Why the model performance varies with the number of selected features? Justify your answer with a toy example (i.e., using a simulated dataset). You can also refer to the results you got in Part 2. "
   ]
  },
  {
   "cell_type": "markdown",
   "metadata": {},
   "source": [
    "Since classifier is found by fitting it to the data, by removing some features we are automatically changing the classifier. As you can see from the MNIST example above, by deleting 35 features when the threshold is 20, we obtain slightly higher test accuracy than the one with threshold 10. If we would look at the weights of the classifier (or support vectors) the size and values will differ of these two."
   ]
  }
 ],
 "metadata": {
  "kernelspec": {
   "display_name": "Python 3",
   "language": "python",
   "name": "python3"
  },
  "language_info": {
   "codemirror_mode": {
    "name": "ipython",
    "version": 3
   },
   "file_extension": ".py",
   "mimetype": "text/x-python",
   "name": "python",
   "nbconvert_exporter": "python",
   "pygments_lexer": "ipython3",
   "version": "3.8.10"
  }
 },
 "nbformat": 4,
 "nbformat_minor": 2
}
